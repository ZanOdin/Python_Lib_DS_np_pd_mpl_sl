{
 "cells": [
  {
   "cell_type": "code",
   "execution_count": 1,
   "id": "48a4a78f",
   "metadata": {},
   "outputs": [],
   "source": [
    "import numpy as np"
   ]
  },
  {
   "cell_type": "markdown",
   "id": "06eb7c96",
   "metadata": {},
   "source": [
    "## ** Задание на повторение материала"
   ]
  },
  {
   "cell_type": "markdown",
   "id": "a5c574fe",
   "metadata": {},
   "source": [
    "Создать одномерный массив Numpy под названием a из 12 последовательных целых чисел чисел от 12 до 24 невключительно"
   ]
  },
  {
   "cell_type": "code",
   "execution_count": 2,
   "id": "df7b02cf",
   "metadata": {},
   "outputs": [
    {
     "data": {
      "text/plain": [
       "array([12, 13, 14, 15, 16, 17, 18, 19, 20, 21, 22, 23])"
      ]
     },
     "execution_count": 2,
     "metadata": {},
     "output_type": "execute_result"
    }
   ],
   "source": [
    "a = np.arange(12, 24)\n",
    "a"
   ]
  },
  {
   "cell_type": "markdown",
   "id": "3df8edb8",
   "metadata": {},
   "source": [
    "Создать 5 двумерных массивов разной формы из массива a. Не использовать в аргументах метода reshape число -1."
   ]
  },
  {
   "cell_type": "code",
   "execution_count": 3,
   "id": "5e0a60ac",
   "metadata": {},
   "outputs": [],
   "source": [
    "a1 = a.reshape((3, 4))\n",
    "a2 = a.reshape((2, 6))\n",
    "a3 = a.reshape((4, 3))\n",
    "a4 = a.reshape((1, 12))\n",
    "a5 = a.reshape((6, 2))"
   ]
  },
  {
   "cell_type": "markdown",
   "id": "85325da3",
   "metadata": {},
   "source": [
    "Создать 5 двумерных массивов разной формы из массива a. Использовать в аргументах метода reshape число -1 (в трех примерах - для обозначения числа столбцов, в двух - для строк)."
   ]
  },
  {
   "cell_type": "code",
   "execution_count": 4,
   "id": "ab6f1410",
   "metadata": {},
   "outputs": [],
   "source": [
    "b1 = a.reshape((3, -1))\n",
    "b2 = a.reshape((-1, 6))\n",
    "b3 = a.reshape((4, -1))\n",
    "b4 = a.reshape((-1, 12))\n",
    "b5 = a.reshape((6, -1))"
   ]
  },
  {
   "cell_type": "markdown",
   "id": "d2f64d7e",
   "metadata": {},
   "source": [
    "Можно ли массив Numpy, состоящий из одного столбца и 12 строк, назвать одномерным?\n",
    "\n",
    "### Да"
   ]
  },
  {
   "cell_type": "markdown",
   "id": "2750b65b",
   "metadata": {},
   "source": [
    "Создать массив из 3 строк и 4 столбцов, состоящий из случайных чисел с плавающей запятой из нормального распределения со средним, равным 0 и среднеквадратичным отклонением, равным 1.0. Получить из этого массива одномерный массив с таким же атрибутом size, как и исходный массив."
   ]
  },
  {
   "cell_type": "code",
   "execution_count": 5,
   "id": "d1c326ef",
   "metadata": {},
   "outputs": [
    {
     "data": {
      "text/plain": [
       "12"
      ]
     },
     "execution_count": 5,
     "metadata": {},
     "output_type": "execute_result"
    }
   ],
   "source": [
    "c = np.random.rand(3, 4)\n",
    "d = c.reshape(1, 12)\n",
    "d.size"
   ]
  },
  {
   "cell_type": "code",
   "execution_count": 6,
   "id": "84e83d09",
   "metadata": {},
   "outputs": [
    {
     "data": {
      "text/plain": [
       "array([[0.49278154, 0.30456651, 0.43411195, 0.63488445, 0.85596132,\n",
       "        0.88882501, 0.5362686 , 0.01166474, 0.82629827, 0.92792894,\n",
       "        0.33130925, 0.89598775]])"
      ]
     },
     "execution_count": 6,
     "metadata": {},
     "output_type": "execute_result"
    }
   ],
   "source": [
    "d"
   ]
  },
  {
   "cell_type": "markdown",
   "id": "676fec7a",
   "metadata": {},
   "source": [
    "Создать массив a, состоящий из целых чисел, убывающих от 20 до 0 невключительно с интервалом 2."
   ]
  },
  {
   "cell_type": "code",
   "execution_count": 7,
   "id": "e6e81d23",
   "metadata": {},
   "outputs": [],
   "source": [
    "a = np.arange(20, 0, -2)"
   ]
  },
  {
   "cell_type": "code",
   "execution_count": 8,
   "id": "58697bec",
   "metadata": {},
   "outputs": [
    {
     "data": {
      "text/plain": [
       "array([20, 18, 16, 14, 12, 10,  8,  6,  4,  2])"
      ]
     },
     "execution_count": 8,
     "metadata": {},
     "output_type": "execute_result"
    }
   ],
   "source": [
    "a"
   ]
  },
  {
   "cell_type": "markdown",
   "id": "719bc228",
   "metadata": {},
   "source": [
    "Создать массив b, состоящий из 1 строки и 10 столбцов: целых чисел, убывающих от 20 до 1 невключительно с интервалом 2. В чем разница между массивами a и b?"
   ]
  },
  {
   "cell_type": "code",
   "execution_count": 53,
   "id": "1e079fa0",
   "metadata": {},
   "outputs": [],
   "source": [
    "b = np.arange(20, 1, -2).reshape(1, 10)"
   ]
  },
  {
   "cell_type": "code",
   "execution_count": 54,
   "id": "ded339a8",
   "metadata": {},
   "outputs": [
    {
     "data": {
      "text/plain": [
       "array([[20, 18, 16, 14, 12, 10,  8,  6,  4,  2]])"
      ]
     },
     "execution_count": 54,
     "metadata": {},
     "output_type": "execute_result"
    }
   ],
   "source": [
    "b"
   ]
  },
  {
   "cell_type": "code",
   "execution_count": 55,
   "id": "6733f624",
   "metadata": {},
   "outputs": [
    {
     "data": {
      "text/plain": [
       "18"
      ]
     },
     "execution_count": 55,
     "metadata": {},
     "output_type": "execute_result"
    }
   ],
   "source": [
    "b[0][1]"
   ]
  },
  {
   "cell_type": "code",
   "execution_count": 56,
   "id": "c488514b",
   "metadata": {},
   "outputs": [
    {
     "data": {
      "text/plain": [
       "1"
      ]
     },
     "execution_count": 56,
     "metadata": {},
     "output_type": "execute_result"
    }
   ],
   "source": [
    "a[1]"
   ]
  },
  {
   "cell_type": "markdown",
   "id": "af389025",
   "metadata": {},
   "source": [
    "Массив b является подмассивом, в отличие от a"
   ]
  },
  {
   "cell_type": "markdown",
   "id": "bacb523f",
   "metadata": {},
   "source": [
    "Вертикально соединить массивы a и b. a - двумерный массив из нулей, число строк которого больше 1 и на 1 меньше, чем число строк двумерного массива b, состоящего из единиц. Итоговый массив v должен иметь атрибут size, равный 10."
   ]
  },
  {
   "cell_type": "code",
   "execution_count": 17,
   "id": "82d2eb9c",
   "metadata": {},
   "outputs": [],
   "source": [
    "a = np.zeros((2, 2))\n",
    "b = np.ones((3, 2))"
   ]
  },
  {
   "cell_type": "code",
   "execution_count": 18,
   "id": "b165c56d",
   "metadata": {},
   "outputs": [
    {
     "data": {
      "text/plain": [
       "array([[0., 0.],\n",
       "       [0., 0.]])"
      ]
     },
     "execution_count": 18,
     "metadata": {},
     "output_type": "execute_result"
    }
   ],
   "source": [
    "a"
   ]
  },
  {
   "cell_type": "code",
   "execution_count": 19,
   "id": "14435a39",
   "metadata": {},
   "outputs": [
    {
     "data": {
      "text/plain": [
       "array([[1., 1.],\n",
       "       [1., 1.],\n",
       "       [1., 1.]])"
      ]
     },
     "execution_count": 19,
     "metadata": {},
     "output_type": "execute_result"
    }
   ],
   "source": [
    "b"
   ]
  },
  {
   "cell_type": "code",
   "execution_count": 32,
   "id": "1e4e5ab7",
   "metadata": {},
   "outputs": [
    {
     "data": {
      "text/plain": [
       "10"
      ]
     },
     "execution_count": 32,
     "metadata": {},
     "output_type": "execute_result"
    }
   ],
   "source": [
    "np.vstack((a, b)).size"
   ]
  },
  {
   "cell_type": "markdown",
   "id": "de37e033",
   "metadata": {},
   "source": [
    "Создать одномерный массив а, состоящий из последовательности целых чисел от 0 до 12. Поменять форму этого массива, чтобы получилась матрица A (двумерный массив Numpy), состоящая из 4 строк и 3 столбцов. Получить матрицу At путем транспонирования матрицы A. Получить матрицу B, умножив матрицу A на матрицу At с помощью матричного умножения. Какой размер имеет матрица B? Получится ли вычислить обратную матрицу для матрицы B и почему?"
   ]
  },
  {
   "cell_type": "code",
   "execution_count": 35,
   "id": "cc70acfe",
   "metadata": {},
   "outputs": [],
   "source": [
    "a = np.arange(0, 12)\n",
    "A = a.reshape((4, 3))"
   ]
  },
  {
   "cell_type": "code",
   "execution_count": 36,
   "id": "a792ce07",
   "metadata": {},
   "outputs": [],
   "source": [
    "At = A.transpose()"
   ]
  },
  {
   "cell_type": "code",
   "execution_count": 38,
   "id": "5cfb458a",
   "metadata": {},
   "outputs": [],
   "source": [
    "B = np.matmul(A, At)"
   ]
  },
  {
   "cell_type": "code",
   "execution_count": 40,
   "id": "11a03956",
   "metadata": {},
   "outputs": [
    {
     "data": {
      "text/plain": [
       "16"
      ]
     },
     "execution_count": 40,
     "metadata": {},
     "output_type": "execute_result"
    }
   ],
   "source": [
    "B.size"
   ]
  },
  {
   "cell_type": "code",
   "execution_count": 59,
   "id": "46916fed",
   "metadata": {},
   "outputs": [
    {
     "data": {
      "text/plain": [
       "array([[  5,  14,  23,  32],\n",
       "       [ 14,  50,  86, 122],\n",
       "       [ 23,  86, 149, 212],\n",
       "       [ 32, 122, 212, 302]])"
      ]
     },
     "execution_count": 59,
     "metadata": {},
     "output_type": "execute_result"
    }
   ],
   "source": [
    "B"
   ]
  },
  {
   "cell_type": "markdown",
   "id": "f6052b36",
   "metadata": {},
   "source": [
    "Из-за корреляции данных и остутствия шума в них не выйдет обратить матрицу B."
   ]
  },
  {
   "cell_type": "markdown",
   "id": "164e89ab",
   "metadata": {},
   "source": [
    "Инициализируйте генератор случайных числе с помощью объекта seed, равного 42."
   ]
  },
  {
   "cell_type": "code",
   "execution_count": 60,
   "id": "d242cda6",
   "metadata": {},
   "outputs": [],
   "source": [
    "np.random.seed(42)"
   ]
  },
  {
   "cell_type": "markdown",
   "id": "99edd52d",
   "metadata": {},
   "source": [
    "Создайте одномерный массив c, составленный из последовательности 16-ти случайных равномерно распределенных целых чисел от 0 до 16 невключительно. "
   ]
  },
  {
   "cell_type": "code",
   "execution_count": 67,
   "id": "68b6a25c",
   "metadata": {},
   "outputs": [
    {
     "data": {
      "text/plain": [
       "array([12,  7, 14,  2, 13,  0,  3,  1,  7,  3,  1, 13,  5,  5,  9,  3])"
      ]
     },
     "execution_count": 67,
     "metadata": {},
     "output_type": "execute_result"
    }
   ],
   "source": [
    "c = np.random.randint(0, 16, size=16)\n",
    "c"
   ]
  },
  {
   "cell_type": "markdown",
   "id": "95b98157",
   "metadata": {},
   "source": [
    "Поменяйте его форму так, чтобы получилась квадратная матрица C. Получите матрицу D, поэлементно прибавив матрицу B из предыдущего вопроса к матрице C, умноженной на 10. Вычислите определитель, ранг и обратную матрицу D_inv для D."
   ]
  },
  {
   "cell_type": "code",
   "execution_count": 69,
   "id": "e8fe6415",
   "metadata": {},
   "outputs": [
    {
     "data": {
      "text/plain": [
       "array([[12,  7, 14,  2],\n",
       "       [13,  0,  3,  1],\n",
       "       [ 7,  3,  1, 13],\n",
       "       [ 5,  5,  9,  3]])"
      ]
     },
     "execution_count": 69,
     "metadata": {},
     "output_type": "execute_result"
    }
   ],
   "source": [
    "C = c.reshape((4, 4))\n",
    "C"
   ]
  },
  {
   "cell_type": "code",
   "execution_count": 70,
   "id": "1732e305",
   "metadata": {},
   "outputs": [
    {
     "data": {
      "text/plain": [
       "array([[125,  84, 163,  52],\n",
       "       [144,  50, 116, 132],\n",
       "       [ 93, 116, 159, 342],\n",
       "       [ 82, 172, 302, 332]])"
      ]
     },
     "execution_count": 70,
     "metadata": {},
     "output_type": "execute_result"
    }
   ],
   "source": [
    "D = B + (C * 10)\n",
    "D"
   ]
  },
  {
   "cell_type": "code",
   "execution_count": 89,
   "id": "81b6799d",
   "metadata": {},
   "outputs": [
    {
     "data": {
      "text/plain": [
       "array([[ 0.00530561,  0.00333288,  0.00394671, -0.00622171],\n",
       "       [ 0.03521848, -0.03758695,  0.02779685, -0.01920604],\n",
       "       [-0.01386906,  0.01530626, -0.01753471,  0.0141495 ],\n",
       "       [-0.0069403 ,  0.00472641,  0.00057468,  0.00162792]])"
      ]
     },
     "execution_count": 89,
     "metadata": {},
     "output_type": "execute_result"
    }
   ],
   "source": [
    "D_inv = np.linalg.inv(D)\n",
    "D_inv"
   ]
  },
  {
   "cell_type": "code",
   "execution_count": 73,
   "id": "07016146",
   "metadata": {},
   "outputs": [
    {
     "data": {
      "text/plain": [
       "159393600.0000001"
      ]
     },
     "execution_count": 73,
     "metadata": {},
     "output_type": "execute_result"
    }
   ],
   "source": [
    "np.linalg.det(D)"
   ]
  },
  {
   "cell_type": "code",
   "execution_count": 78,
   "id": "47074333",
   "metadata": {},
   "outputs": [
    {
     "data": {
      "text/plain": [
       "4"
      ]
     },
     "execution_count": 78,
     "metadata": {},
     "output_type": "execute_result"
    }
   ],
   "source": [
    "np.linalg.matrix_rank(D)"
   ]
  },
  {
   "cell_type": "markdown",
   "id": "64006e37",
   "metadata": {},
   "source": [
    "Приравняйте к нулю отрицательные числа в матрице D_inv, а положительные - к единице. Убедитесь, что в матрице D_inv остались только нули и единицы. С помощью функции numpy.where, используя матрицу D_inv в качестве маски, а матрицы B и C - в качестве источников данных, получите матрицу E размером 4x4.  Элементы матрицы E, для которых соответствующий элемент матрицы D_inv равен 1, должны быть равны соответствующему элементу матрицы B, а элементы матрицы E, для которых соответствующий элемент матрицы D_inv равен 0, должны быть равны соответствующему элементу матрицы C.\n"
   ]
  },
  {
   "cell_type": "code",
   "execution_count": 90,
   "id": "9fd62cfe",
   "metadata": {},
   "outputs": [
    {
     "data": {
      "text/plain": [
       "array([[ 0.00530561,  0.00333288,  0.00394671, -0.00622171],\n",
       "       [ 0.03521848, -0.03758695,  0.02779685, -0.01920604],\n",
       "       [-0.01386906,  0.01530626, -0.01753471,  0.0141495 ],\n",
       "       [-0.0069403 ,  0.00472641,  0.00057468,  0.00162792]])"
      ]
     },
     "execution_count": 90,
     "metadata": {},
     "output_type": "execute_result"
    }
   ],
   "source": [
    "D_inv"
   ]
  },
  {
   "cell_type": "code",
   "execution_count": 91,
   "id": "5cb54967",
   "metadata": {},
   "outputs": [],
   "source": [
    "for i in range(0, 4):\n",
    "    for j in range(0, 4):\n",
    "        if (D_inv[i][j] <= 0):\n",
    "            D_inv[i][j] = 0\n",
    "        else: D_inv[i][j] = 1\n"
   ]
  },
  {
   "cell_type": "code",
   "execution_count": 92,
   "id": "0a1cc5eb",
   "metadata": {},
   "outputs": [
    {
     "data": {
      "text/plain": [
       "array([[1, 1, 1, 0],\n",
       "       [1, 0, 1, 0],\n",
       "       [0, 1, 0, 1],\n",
       "       [0, 1, 1, 1]])"
      ]
     },
     "execution_count": 92,
     "metadata": {},
     "output_type": "execute_result"
    }
   ],
   "source": [
    "D_inv.astype(int)"
   ]
  },
  {
   "cell_type": "code",
   "execution_count": 93,
   "id": "e23e051c",
   "metadata": {},
   "outputs": [],
   "source": [
    "E = np.where(D_inv, B, C)"
   ]
  },
  {
   "cell_type": "code",
   "execution_count": 101,
   "id": "070324d5",
   "metadata": {},
   "outputs": [
    {
     "data": {
      "text/plain": [
       "('D_inv',\n",
       " array([[1., 1., 1., 0.],\n",
       "        [1., 0., 1., 0.],\n",
       "        [0., 1., 0., 1.],\n",
       "        [0., 1., 1., 1.]]),\n",
       " '________________________________________',\n",
       " 'B',\n",
       " array([[  5,  14,  23,  32],\n",
       "        [ 14,  50,  86, 122],\n",
       "        [ 23,  86, 149, 212],\n",
       "        [ 32, 122, 212, 302]]),\n",
       " '________________________________________',\n",
       " 'C',\n",
       " array([[12,  7, 14,  2],\n",
       "        [13,  0,  3,  1],\n",
       "        [ 7,  3,  1, 13],\n",
       "        [ 5,  5,  9,  3]]),\n",
       " '________________________________________',\n",
       " 'E',\n",
       " array([[  5,  14,  23,   2],\n",
       "        [ 14,   0,  86,   1],\n",
       "        [  7,  86,   1, 212],\n",
       "        [  5, 122, 212, 302]]))"
      ]
     },
     "execution_count": 101,
     "metadata": {},
     "output_type": "execute_result"
    }
   ],
   "source": [
    "\"D_inv\", D_inv, \"_\" * 40, \"B\", B, \"_\" * 40, \"C\", C, \"_\" * 40, \"E\", E"
   ]
  }
 ],
 "metadata": {
  "kernelspec": {
   "display_name": "Python 3",
   "language": "python",
   "name": "python3"
  },
  "language_info": {
   "codemirror_mode": {
    "name": "ipython",
    "version": 3
   },
   "file_extension": ".py",
   "mimetype": "text/x-python",
   "name": "python",
   "nbconvert_exporter": "python",
   "pygments_lexer": "ipython3",
   "version": "3.8.8"
  }
 },
 "nbformat": 4,
 "nbformat_minor": 5
}
